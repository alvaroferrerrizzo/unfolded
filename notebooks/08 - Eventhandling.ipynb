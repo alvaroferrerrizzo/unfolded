{
  "cells": [
    {
      "cell_type": "markdown",
      "metadata": {
        "id": "57RSYJQtVPdK"
      },
      "source": [
        "# Handling hover and click map events\n",
        "\n",
        "[![open_in_colab][colab_badge]][colab_notebook_link]\n",
        "[![open_in_binder][binder_badge]][binder_notebook_link]\n",
        "\n",
        "[colab_badge]: https://colab.research.google.com/assets/colab-badge.svg\n",
        "[colab_notebook_link]: https://colab.research.google.com/github/UnfoldedInc/examples/blob/master/notebooks/08%20-%20Eventhandling.ipynb\n",
        "[binder_badge]: https://mybinder.org/badge_logo.svg\n",
        "[binder_notebook_link]: https://mybinder.org/v2/gh/UnfoldedInc/examples/master?urlpath=lab/tree/notebooks/08%20-%20Eventhandling.ipynb\n",
        "\n",
        "Using the [set_map_event_handlers](https://docs.unfolded.ai/map-sdk/api/set-map-event-handlers) function it is possible to define event callbacks for the `on_hover` and `on_click` events. These events can return the data from the layer points or polygons if the user clicks or hovers on them."
      ]
    },
    {
      "cell_type": "markdown",
      "metadata": {
        "id": "_-HFhef7VPdP"
      },
      "source": [
        "## Dependencies\n",
        "\n",
        "This notebook requires the following Python dependencies:\n",
        "\n",
        "- `unfolded.map-sdk`: The Unfolded Map SDK\n",
        "\n",
        "If running this notebook in Binder, these dependencies should already be installed. If running in Colab, the next cell will install these dependencies."
      ]
    },
    {
      "cell_type": "code",
      "execution_count": null,
      "metadata": {
        "id": "osYEq4H8VPdQ"
      },
      "outputs": [],
      "source": [
        "# If in Colab, install this notebook's required dependencies\n",
        "import sys\n",
        "if \"google.colab\" in sys.modules:\n",
        "    !pip install 'unfolded.map_sdk>=0.6.3'"
      ]
    },
    {
      "cell_type": "markdown",
      "metadata": {
        "id": "PZuRuETkVPdS"
      },
      "source": [
        "## Imports"
      ]
    },
    {
      "cell_type": "code",
      "execution_count": null,
      "metadata": {
        "id": "HNFRQwiVVPdS"
      },
      "outputs": [],
      "source": [
        "from unfolded.map_sdk import UnfoldedMap\n",
        "import ipywidgets as widgets"
      ]
    },
    {
      "cell_type": "markdown",
      "metadata": {
        "id": "Oa_Ja-SRVPdT"
      },
      "source": [
        "## Handling event callbacks"
      ]
    },
    {
      "cell_type": "code",
      "execution_count": null,
      "metadata": {
        "id": "KR7c--YUVPdT"
      },
      "outputs": [],
      "source": [
        "unfolded_map = UnfoldedMap(mapUUID='fb6aad80-eb4c-4f33-86eb-668772cc5fc4')\n",
        "unfolded_map"
      ]
    },
    {
      "cell_type": "markdown",
      "metadata": {
        "id": "lc09JKbxVPdU"
      },
      "source": [
        "We define the `on_hover` callback function:"
      ]
    },
    {
      "cell_type": "code",
      "execution_count": null,
      "metadata": {
        "id": "K4y7eRwkVPdV",
        "outputId": "ebc95acf-f4af-40c6-b995-f8e1a90c6ee2",
        "colab": {
          "referenced_widgets": [
            "8446ae8068dc462f99a75bdcaaf88c6a"
          ]
        }
      },
      "outputs": [
        {
          "data": {
            "application/vnd.jupyter.widget-view+json": {
              "model_id": "8446ae8068dc462f99a75bdcaaf88c6a",
              "version_major": 2,
              "version_minor": 0
            },
            "text/plain": [
              "Output()"
            ]
          },
          "metadata": {},
          "output_type": "display_data"
        }
      ],
      "source": [
        "output = widgets.Output()\n",
        "@output.capture(clear_output=True)\n",
        "def on_hover_output(info):\n",
        "    print('Hover event')\n",
        "    print(info)\n",
        "output"
      ]
    },
    {
      "cell_type": "markdown",
      "metadata": {
        "id": "9QLSwfTeVPdW"
      },
      "source": [
        "We define the `on_click` callback function:"
      ]
    },
    {
      "cell_type": "code",
      "execution_count": null,
      "metadata": {
        "id": "kfdfEN0iVPdX",
        "outputId": "8d56a76d-2bab-4523-80bd-2431d8caef7e",
        "colab": {
          "referenced_widgets": [
            "aa58c182802e4eb79f6859d4787e003d"
          ]
        }
      },
      "outputs": [
        {
          "data": {
            "application/vnd.jupyter.widget-view+json": {
              "model_id": "aa58c182802e4eb79f6859d4787e003d",
              "version_major": 2,
              "version_minor": 0
            },
            "text/plain": [
              "Output()"
            ]
          },
          "metadata": {},
          "output_type": "display_data"
        }
      ],
      "source": [
        "output = widgets.Output()\n",
        "@output.capture(clear_output=True)\n",
        "def on_click_output(info):\n",
        "    print('Click event')\n",
        "    print(info)\n",
        "output"
      ]
    },
    {
      "cell_type": "markdown",
      "metadata": {
        "id": "JSJGFO5vVPdY"
      },
      "source": [
        "Here we register the defined callback functions. These functions will be called once you hover or click on the points or on the empty part of the map for the corresponding function."
      ]
    },
    {
      "cell_type": "code",
      "execution_count": null,
      "metadata": {
        "id": "zRjtObXeVPdY"
      },
      "outputs": [],
      "source": [
        "unfolded_map.set_map_event_handlers({\n",
        "    'on_hover': on_hover_output,\n",
        "    'on_click': on_click_output\n",
        "})"
      ]
    },
    {
      "cell_type": "code",
      "execution_count": null,
      "metadata": {
        "id": "fA-6YIJJVPdZ"
      },
      "outputs": [],
      "source": [
        ""
      ]
    }
  ],
  "metadata": {
    "kernelspec": {
      "display_name": "Python 3",
      "language": "python",
      "name": "python3"
    },
    "language_info": {
      "codemirror_mode": {
        "name": "ipython",
        "version": 3
      },
      "file_extension": ".py",
      "mimetype": "text/x-python",
      "name": "python",
      "nbconvert_exporter": "python",
      "pygments_lexer": "ipython3",
      "version": "3.8.5"
    },
    "colab": {
      "name": "08 - Eventhandling.ipynb",
      "provenance": []
    }
  },
  "nbformat": 4,
  "nbformat_minor": 0
}